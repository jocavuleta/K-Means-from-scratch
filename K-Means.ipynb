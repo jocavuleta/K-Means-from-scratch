{
 "cells": [
  {
   "cell_type": "code",
   "execution_count": 348,
   "metadata": {
    "colab": {
     "base_uri": "https://localhost:8080/",
     "height": 204
    },
    "colab_type": "code",
    "id": "ZKs41gyHx13s",
    "outputId": "96b27d10-ebe6-4870-e4b9-c69f6890e514"
   },
   "outputs": [
    {
     "data": {
      "text/html": [
       "<div>\n",
       "<style scoped>\n",
       "    .dataframe tbody tr th:only-of-type {\n",
       "        vertical-align: middle;\n",
       "    }\n",
       "\n",
       "    .dataframe tbody tr th {\n",
       "        vertical-align: top;\n",
       "    }\n",
       "\n",
       "    .dataframe thead th {\n",
       "        text-align: right;\n",
       "    }\n",
       "</style>\n",
       "<table border=\"1\" class=\"dataframe\">\n",
       "  <thead>\n",
       "    <tr style=\"text-align: right;\">\n",
       "      <th></th>\n",
       "      <th>Daily Time Spent on Site</th>\n",
       "      <th>Age</th>\n",
       "      <th>Area Income</th>\n",
       "      <th>Daily Internet Usage</th>\n",
       "    </tr>\n",
       "  </thead>\n",
       "  <tbody>\n",
       "    <tr>\n",
       "      <th>0</th>\n",
       "      <td>68.95</td>\n",
       "      <td>35</td>\n",
       "      <td>61833.90</td>\n",
       "      <td>256.09</td>\n",
       "    </tr>\n",
       "    <tr>\n",
       "      <th>1</th>\n",
       "      <td>80.23</td>\n",
       "      <td>31</td>\n",
       "      <td>68441.85</td>\n",
       "      <td>193.77</td>\n",
       "    </tr>\n",
       "    <tr>\n",
       "      <th>2</th>\n",
       "      <td>69.47</td>\n",
       "      <td>26</td>\n",
       "      <td>59785.94</td>\n",
       "      <td>236.50</td>\n",
       "    </tr>\n",
       "    <tr>\n",
       "      <th>3</th>\n",
       "      <td>74.15</td>\n",
       "      <td>29</td>\n",
       "      <td>54806.18</td>\n",
       "      <td>245.89</td>\n",
       "    </tr>\n",
       "    <tr>\n",
       "      <th>4</th>\n",
       "      <td>68.37</td>\n",
       "      <td>35</td>\n",
       "      <td>73889.99</td>\n",
       "      <td>225.58</td>\n",
       "    </tr>\n",
       "  </tbody>\n",
       "</table>\n",
       "</div>"
      ],
      "text/plain": [
       "   Daily Time Spent on Site  Age  Area Income  Daily Internet Usage\n",
       "0                     68.95   35     61833.90                256.09\n",
       "1                     80.23   31     68441.85                193.77\n",
       "2                     69.47   26     59785.94                236.50\n",
       "3                     74.15   29     54806.18                245.89\n",
       "4                     68.37   35     73889.99                225.58"
      ]
     },
     "execution_count": 348,
     "metadata": {},
     "output_type": "execute_result"
    }
   ],
   "source": [
    "import pandas as pd\n",
    "import numpy as np\n",
    "import random\n",
    "import matplotlib.pyplot as plt\n",
    "dataset=pd.read_csv('../dataset/LogisticRegressiondata.csv')\n",
    "dataset = dataset.drop(['Ad Topic Line', 'City', 'Country', 'Clicked on Ad', 'Male', 'Timestamp'], axis=1)\n",
    "dataset.head()"
   ]
  },
  {
   "cell_type": "code",
   "execution_count": 349,
   "metadata": {
    "colab": {},
    "colab_type": "code",
    "id": "EM6HhwMLx7XA"
   },
   "outputs": [
    {
     "data": {
      "text/plain": [
       "array([[68.95, 35.  ],\n",
       "       [80.23, 31.  ],\n",
       "       [69.47, 26.  ],\n",
       "       ...,\n",
       "       [51.63, 51.  ],\n",
       "       [55.55, 19.  ],\n",
       "       [45.01, 26.  ]])"
      ]
     },
     "execution_count": 349,
     "metadata": {},
     "output_type": "execute_result"
    }
   ],
   "source": [
    "# X = dataset.iloc[:, [1, 3]].values # we are taking only third and fourth colulmn\n",
    "X = dataset.iloc[:, :2].values\n",
    "X"
   ]
  },
  {
   "cell_type": "code",
   "execution_count": 350,
   "metadata": {
    "colab": {
     "base_uri": "https://localhost:8080/",
     "height": 102
    },
    "colab_type": "code",
    "id": "VSV7Tsm23KEl",
    "outputId": "12bd70b2-404f-4502-a7b5-19adcf461dfc"
   },
   "outputs": [],
   "source": [
    "# X[:5,:]"
   ]
  },
  {
   "cell_type": "code",
   "execution_count": 351,
   "metadata": {
    "colab": {},
    "colab_type": "code",
    "id": "eIByvewtyBJq"
   },
   "outputs": [],
   "source": [
    "m=X.shape[0] #number of training examples\n",
    "n=X.shape[1] #number of features. Here n=2\n",
    "n_iter=1000\n",
    "K=5 # number of clusters "
   ]
  },
  {
   "cell_type": "code",
   "execution_count": 352,
   "metadata": {
    "colab": {
     "base_uri": "https://localhost:8080/",
     "height": 34
    },
    "colab_type": "code",
    "id": "jtaZG0Yf4VNn",
    "outputId": "c506c82c-981b-4ce3-9c68-d5c238efaa6d"
   },
   "outputs": [
    {
     "data": {
      "text/plain": [
       "1000"
      ]
     },
     "execution_count": 352,
     "metadata": {},
     "output_type": "execute_result"
    }
   ],
   "source": [
    "m"
   ]
  },
  {
   "cell_type": "code",
   "execution_count": 353,
   "metadata": {
    "colab": {
     "base_uri": "https://localhost:8080/",
     "height": 34
    },
    "colab_type": "code",
    "id": "YEM8eYhf4XD-",
    "outputId": "0126dc19-dc64-4ffa-f477-d0d2642ae74f"
   },
   "outputs": [
    {
     "data": {
      "text/plain": [
       "2"
      ]
     },
     "execution_count": 353,
     "metadata": {},
     "output_type": "execute_result"
    }
   ],
   "source": [
    "n"
   ]
  },
  {
   "cell_type": "code",
   "execution_count": 354,
   "metadata": {
    "colab": {},
    "colab_type": "code",
    "id": "7T70J5ovyNDw"
   },
   "outputs": [],
   "source": [
    "K=5 # number of clusters "
   ]
  },
  {
   "cell_type": "code",
   "execution_count": 355,
   "metadata": {
    "colab": {},
    "colab_type": "code",
    "id": "h9Un8AVxySBg"
   },
   "outputs": [],
   "source": [
    "centroids=np.zeros([n*K])\n",
    "centroids=centroids.reshape(n,K)\n",
    "#Centroids is a n x K dimentional matrix, \n",
    "#where each column will be a centroid for one cluster."
   ]
  },
  {
   "cell_type": "code",
   "execution_count": 356,
   "metadata": {
    "colab": {
     "base_uri": "https://localhost:8080/",
     "height": 51
    },
    "colab_type": "code",
    "id": "Y3-H7hKNhqNQ",
    "outputId": "e95ea8f8-49e3-4bf7-eac6-d77e4a3d449a"
   },
   "outputs": [
    {
     "data": {
      "text/plain": [
       "array([[0., 0., 0., 0., 0.],\n",
       "       [0., 0., 0., 0., 0.]])"
      ]
     },
     "execution_count": 356,
     "metadata": {},
     "output_type": "execute_result"
    }
   ],
   "source": [
    "centroids"
   ]
  },
  {
   "cell_type": "code",
   "execution_count": 357,
   "metadata": {
    "colab": {
     "base_uri": "https://localhost:8080/",
     "height": 34
    },
    "colab_type": "code",
    "id": "eBXnJrO7g8-O",
    "outputId": "fd8628f0-3005-4140-b709-d67fd42cb8a5"
   },
   "outputs": [
    {
     "data": {
      "text/plain": [
       "(2, 5)"
      ]
     },
     "execution_count": 357,
     "metadata": {},
     "output_type": "execute_result"
    }
   ],
   "source": [
    "np.shape(centroids)"
   ]
  },
  {
   "cell_type": "code",
   "execution_count": 358,
   "metadata": {
    "colab": {
     "base_uri": "https://localhost:8080/",
     "height": 51
    },
    "colab_type": "code",
    "id": "MpcPxShOy616",
    "outputId": "51ff8d18-9373-4ace-97ed-d46c8ae5e5c8"
   },
   "outputs": [
    {
     "data": {
      "text/plain": [
       "array([[0., 0., 0., 0., 0.],\n",
       "       [0., 0., 0., 0., 0.]])"
      ]
     },
     "execution_count": 358,
     "metadata": {},
     "output_type": "execute_result"
    }
   ],
   "source": [
    "centroids"
   ]
  },
  {
   "cell_type": "code",
   "execution_count": 359,
   "metadata": {
    "colab": {},
    "colab_type": "code",
    "id": "GVmfAaMg-k4A"
   },
   "outputs": [],
   "source": [
    "rand=random.randint(0,m-1)"
   ]
  },
  {
   "cell_type": "code",
   "execution_count": 360,
   "metadata": {
    "colab": {
     "base_uri": "https://localhost:8080/",
     "height": 34
    },
    "colab_type": "code",
    "id": "fFJUtelr-0Iu",
    "outputId": "52296626-ff87-4754-ac18-7c7144844f86"
   },
   "outputs": [
    {
     "data": {
      "text/plain": [
       "array([66.83, 46.  ])"
      ]
     },
     "execution_count": 360,
     "metadata": {},
     "output_type": "execute_result"
    }
   ],
   "source": [
    "X[rand,:]"
   ]
  },
  {
   "cell_type": "code",
   "execution_count": 361,
   "metadata": {
    "colab": {
     "base_uri": "https://localhost:8080/",
     "height": 34
    },
    "colab_type": "code",
    "id": "OUGHrTT4_ItP",
    "outputId": "cbd15e98-c60f-4914-97b0-b66547525aec"
   },
   "outputs": [
    {
     "data": {
      "text/plain": [
       "array([78.57, 36.  ])"
      ]
     },
     "execution_count": 361,
     "metadata": {},
     "output_type": "execute_result"
    }
   ],
   "source": [
    "X[197,:]"
   ]
  },
  {
   "cell_type": "code",
   "execution_count": 362,
   "metadata": {
    "colab": {},
    "colab_type": "code",
    "id": "EhmiDcxSy8Fh"
   },
   "outputs": [],
   "source": [
    "for k in range(K): #K times-initialize the centroids randomly from the data points, taking K samples \n",
    "#from m samples\n",
    "    rand=random.randint(0,m-1) #data index is random\n",
    "    centroids[:,k]=X[rand]\n",
    "#Centroids is a n x K dimentional matrix, \n",
    "#where each column will be a centroid for one cluster."
   ]
  },
  {
   "cell_type": "code",
   "execution_count": 363,
   "metadata": {
    "colab": {
     "base_uri": "https://localhost:8080/",
     "height": 51
    },
    "colab_type": "code",
    "id": "yDB0VrLAldB3",
    "outputId": "bcccdd36-c8cb-46c8-e146-36766c924124"
   },
   "outputs": [
    {
     "data": {
      "text/plain": [
       "array([[61.04, 74.32, 46.77, 87.27, 43.16],\n",
       "       [41.  , 33.  , 32.  , 30.  , 35.  ]])"
      ]
     },
     "execution_count": 363,
     "metadata": {},
     "output_type": "execute_result"
    }
   ],
   "source": [
    "centroids"
   ]
  },
  {
   "cell_type": "code",
   "execution_count": 364,
   "metadata": {
    "colab": {
     "base_uri": "https://localhost:8080/",
     "height": 54
    },
    "colab_type": "code",
    "id": "elfdPMuXzOVm",
    "outputId": "4960de48-192b-4ae5-feb2-08c1df6e5767"
   },
   "outputs": [
    {
     "data": {
      "text/plain": [
       "' Step 2.a. For each training example compute the euclidian distance \\nfrom the centroid and assign the cluster based on the minimal distance\\nThe output of our algorithm should be a dictionary with cluster \\nnumber as Keys and the data points which belong to \\nthat cluster as values. So let’s initialize the dictionary.'"
      ]
     },
     "execution_count": 364,
     "metadata": {},
     "output_type": "execute_result"
    }
   ],
   "source": [
    "''' Step 2.a. For each training example compute the euclidian distance \n",
    "from the centroid and assign the cluster based on the minimal distance\n",
    "The output of our algorithm should be a dictionary with cluster \n",
    "number as Keys and the data points which belong to \n",
    "that cluster as values. So let’s initialize the dictionary.'''"
   ]
  },
  {
   "cell_type": "code",
   "execution_count": 365,
   "metadata": {
    "colab": {},
    "colab_type": "code",
    "id": "EDDVbHD6_9C7"
   },
   "outputs": [],
   "source": [
    "EuclidianDistance=np.zeros([m*K])\n",
    "EuclidianDistance=EuclidianDistance.reshape(m,K)"
   ]
  },
  {
   "cell_type": "code",
   "execution_count": 366,
   "metadata": {
    "colab": {
     "base_uri": "https://localhost:8080/",
     "height": 1000
    },
    "colab_type": "code",
    "id": "QBZXI6H1__3-",
    "outputId": "1016c362-6d26-4cfc-fee9-61c2ece68208"
   },
   "outputs": [
    {
     "data": {
      "text/plain": [
       "array([[0., 0., 0., 0., 0.],\n",
       "       [0., 0., 0., 0., 0.],\n",
       "       [0., 0., 0., 0., 0.],\n",
       "       ...,\n",
       "       [0., 0., 0., 0., 0.],\n",
       "       [0., 0., 0., 0., 0.],\n",
       "       [0., 0., 0., 0., 0.]])"
      ]
     },
     "execution_count": 366,
     "metadata": {},
     "output_type": "execute_result"
    }
   ],
   "source": [
    "EuclidianDistance"
   ]
  },
  {
   "cell_type": "code",
   "execution_count": 367,
   "metadata": {
    "colab": {
     "base_uri": "https://localhost:8080/",
     "height": 54
    },
    "colab_type": "code",
    "id": "VIQFLgQfzqEw",
    "outputId": "4db749e9-fe79-4505-c0ed-c220c424e4eb"
   },
   "outputs": [
    {
     "data": {
      "text/plain": [
       "'We find the euclidian distance from \\neach point to all the centroids and store in a m X K matrix. \\nSo every row in EuclidianDistance matrix will have distances \\nof that particular data point from all the centroids. \\nNext, we are going to find the minimum distance and store \\nthe index of the column in a vector C.'"
      ]
     },
     "execution_count": 367,
     "metadata": {},
     "output_type": "execute_result"
    }
   ],
   "source": [
    "EuclidianDistance=np.zeros([m*K])\n",
    "EuclidianDistance=EuclidianDistance.reshape(m,K)\n",
    "for k in range(K):\n",
    "       tempDist=np.sum((X-centroids[:,k])**2,axis=1)\n",
    "       EuclidianDistance[:,k]=tempDist\n",
    "C=np.argmin(EuclidianDistance,axis=1)+1 #returns the k for which we have minimum distance\n",
    "\n",
    "'''We find the euclidian distance from \n",
    "each point to all the centroids and store in a m X K matrix. \n",
    "So every row in EuclidianDistance matrix will have distances \n",
    "of that particular data point from all the centroids. \n",
    "Next, we are going to find the minimum distance and store \n",
    "the index of the column in a vector C.'''"
   ]
  },
  {
   "cell_type": "code",
   "execution_count": 368,
   "metadata": {
    "colab": {
     "base_uri": "https://localhost:8080/",
     "height": 187
    },
    "colab_type": "code",
    "id": "uWoSIytwDG6T",
    "outputId": "ee11a7ac-04a9-472a-8036-a718b7aad960"
   },
   "outputs": [
    {
     "data": {
      "text/plain": [
       "array([2, 2, 2, 2, 2, 3, 4, 1, 2, 2, 5, 4, 1, 4, 5, 2, 1, 2, 1, 2, 2, 4,\n",
       "       5, 4, 5, 2, 3, 1, 2, 2, 2, 4, 1, 3, 1, 4, 1, 1, 1, 5, 4, 2, 4, 4,\n",
       "       4, 5, 2, 4, 5, 5, 2, 2, 5, 1, 1, 2, 1, 5, 2, 5, 4, 4, 2, 4, 5, 1,\n",
       "       1, 5, 2, 2, 3, 1, 1, 5, 5, 2, 3, 4, 1, 1, 2, 2, 1, 1, 2, 1, 2, 3,\n",
       "       1, 1, 1, 3, 2, 5, 3, 2, 5, 5, 5, 2, 5, 2, 4, 2, 2, 2, 2, 5, 3, 2,\n",
       "       1, 1, 2, 5, 2, 2, 1, 1, 2, 4, 4, 3, 2, 5, 1, 2, 2, 4, 2, 1, 5, 5,\n",
       "       3, 2, 5, 3, 5, 5, 2, 2, 4, 5, 1, 2, 1, 5, 1, 2, 1, 1, 3, 2, 5, 2,\n",
       "       2, 4, 5, 3, 4, 2, 2, 4, 2, 2, 5, 5, 1, 4, 1, 4, 5, 1, 2, 2, 1, 2,\n",
       "       1, 2, 3, 4, 5, 4, 1, 1, 4, 1, 1, 2, 4, 5, 3, 1, 1, 5, 2, 2, 5, 2,\n",
       "       2, 2, 1, 2, 5, 2, 2, 3, 2, 4, 1, 5, 2, 5, 2, 1, 2, 2, 1, 3, 5, 5,\n",
       "       2, 2, 3, 1, 4, 2, 3, 5, 2, 2, 2, 3, 1, 2, 5, 5, 2, 2, 2, 2, 2, 1,\n",
       "       4, 4, 2, 2, 5, 1, 5, 2, 2, 1, 4, 3, 1, 4, 2, 5, 4, 2, 2, 1, 1, 5,\n",
       "       4, 1, 2, 2, 3, 2, 5, 2, 2, 2, 2, 3, 4, 4, 4, 4, 5, 3, 5, 2, 5, 2,\n",
       "       3, 4, 5, 3, 3, 4, 1, 4, 2, 4, 2, 2, 2, 2, 2, 1, 5, 2, 5, 4, 4, 4,\n",
       "       4, 1, 2, 1, 2, 2, 4, 2, 2, 2, 4, 1, 3, 4, 4, 1, 4, 5, 5, 2, 2, 5,\n",
       "       4, 2, 1, 2, 4, 5, 4, 2, 2, 2, 5, 1, 4, 4, 2, 2, 4, 5, 2, 3, 2, 2,\n",
       "       2, 2, 1, 4, 5, 3, 1, 4, 5, 1, 2, 2, 1, 1, 2, 2, 2, 4, 1, 5, 2, 5,\n",
       "       2, 2, 4, 1, 2, 2, 2, 5, 2, 2, 3, 2, 4, 5, 1, 1, 2, 2, 4, 2, 1, 2,\n",
       "       5, 3, 2, 2, 5, 4, 5, 4, 1, 2, 1, 3, 1, 5, 3, 2, 2, 1, 4, 5, 2, 2,\n",
       "       2, 1, 5, 2, 3, 1, 5, 1, 1, 4, 1, 4, 4, 4, 1, 4, 4, 1, 3, 2, 1, 2,\n",
       "       3, 2, 5, 1, 5, 2, 5, 2, 1, 2, 3, 3, 2, 4, 2, 2, 5, 4, 1, 4, 5, 5,\n",
       "       2, 5, 4, 3, 4, 3, 1, 2, 5, 2, 2, 4, 3, 2, 2, 5, 5, 5, 3, 4, 2, 3,\n",
       "       5, 2, 4, 2, 5, 2, 5, 1, 1, 1, 2, 2, 4, 5, 2, 1, 1, 2, 2, 1, 1, 2,\n",
       "       2, 5, 1, 2, 3, 2, 4, 1, 2, 5, 4, 4, 1, 5, 5, 2, 2, 1, 2, 1, 5, 3,\n",
       "       5, 4, 1, 1, 2, 4, 2, 2, 2, 2, 4, 2, 2, 2, 2, 1, 2, 5, 2, 4, 2, 2,\n",
       "       2, 4, 1, 5, 5, 2, 1, 2, 2, 2, 1, 5, 1, 1, 1, 4, 5, 2, 1, 2, 5, 2,\n",
       "       2, 2, 5, 1, 5, 2, 2, 1, 1, 1, 3, 2, 3, 2, 2, 5, 2, 5, 2, 1, 2, 4,\n",
       "       3, 5, 2, 2, 4, 5, 2, 1, 2, 2, 3, 1, 2, 2, 1, 4, 5, 5, 2, 2, 2, 5,\n",
       "       1, 2, 5, 2, 4, 4, 1, 4, 2, 2, 4, 5, 1, 2, 2, 4, 2, 5, 1, 5, 1, 4,\n",
       "       1, 2, 1, 4, 2, 2, 2, 3, 5, 3, 2, 4, 4, 4, 4, 4, 2, 1, 4, 2, 4, 2,\n",
       "       5, 3, 1, 1, 4, 1, 2, 2, 3, 1, 2, 1, 4, 1, 2, 4, 5, 5, 4, 1, 2, 3,\n",
       "       5, 2, 5, 2, 2, 2, 2, 2, 4, 4, 1, 2, 2, 2, 5, 4, 4, 2, 3, 1, 4, 2,\n",
       "       2, 2, 2, 2, 5, 1, 5, 2, 4, 1, 2, 3, 5, 4, 1, 1, 2, 5, 5, 5, 2, 2,\n",
       "       2, 4, 4, 2, 2, 1, 4, 5, 3, 4, 2, 1, 5, 4, 5, 2, 2, 1, 2, 1, 2, 3,\n",
       "       5, 1, 1, 2, 2, 4, 2, 1, 1, 3, 5, 4, 2, 2, 1, 3, 1, 3, 3, 1, 1, 4,\n",
       "       2, 2, 4, 1, 5, 5, 3, 2, 1, 2, 1, 2, 4, 4, 5, 5, 2, 1, 4, 5, 5, 5,\n",
       "       3, 5, 1, 2, 2, 2, 1, 2, 3, 3, 1, 5, 1, 4, 1, 1, 5, 1, 3, 2, 4, 2,\n",
       "       4, 2, 5, 3, 4, 2, 1, 4, 2, 2, 2, 4, 4, 5, 2, 1, 3, 5, 5, 3, 2, 1,\n",
       "       5, 1, 5, 1, 2, 1, 2, 2, 4, 5, 1, 4, 2, 1, 2, 5, 1, 4, 2, 3, 4, 2,\n",
       "       5, 2, 4, 2, 4, 2, 1, 5, 4, 4, 2, 4, 3, 2, 2, 2, 2, 5, 1, 2, 2, 2,\n",
       "       3, 2, 4, 5, 2, 5, 5, 1, 4, 3, 2, 3, 5, 2, 4, 4, 2, 2, 1, 5, 1, 5,\n",
       "       5, 4, 4, 2, 5, 4, 1, 2, 5, 1, 5, 4, 5, 5, 1, 4, 2, 2, 2, 1, 5, 1,\n",
       "       1, 5, 2, 4, 4, 2, 2, 1, 1, 5, 2, 4, 1, 1, 5, 3, 5, 2, 2, 5, 2, 4,\n",
       "       2, 5, 1, 2, 1, 3, 1, 3, 3, 1, 5, 2, 2, 4, 3, 2, 2, 1, 2, 5, 5, 2,\n",
       "       5, 2, 5, 5, 1, 4, 5, 5, 1, 3, 2, 2, 1, 2, 1, 4, 2, 2, 2, 1, 4, 2,\n",
       "       5, 5, 1, 2, 3, 2, 1, 1, 3, 3])"
      ]
     },
     "execution_count": 368,
     "metadata": {},
     "output_type": "execute_result"
    }
   ],
   "source": [
    "C"
   ]
  },
  {
   "cell_type": "code",
   "execution_count": 369,
   "metadata": {
    "colab": {
     "base_uri": "https://localhost:8080/",
     "height": 1000
    },
    "colab_type": "code",
    "id": "dw-ypJACCFEI",
    "outputId": "734cdaea-8a6e-4df5-ec14-fee729160198"
   },
   "outputs": [
    {
     "data": {
      "text/plain": [
       "array([[  98.5681,   32.8369,  500.9524,  360.6224,  665.1241],\n",
       "       [ 468.2561,   38.9281, 1120.5716,   50.5616, 1390.1849],\n",
       "       [ 296.0649,   72.5225,  551.29  ,  332.84  ,  773.2161],\n",
       "       ...,\n",
       "       [ 188.5481,  838.8361,  384.6196, 1711.2096,  327.7409],\n",
       "       [ 514.1401,  548.3129,  246.0884, 1127.1584,  409.5121],\n",
       "       [ 481.9609,  908.0761,   39.0976, 1801.9076,   84.4225]])"
      ]
     },
     "execution_count": 369,
     "metadata": {},
     "output_type": "execute_result"
    }
   ],
   "source": [
    "EuclidianDistance"
   ]
  },
  {
   "cell_type": "code",
   "execution_count": 370,
   "metadata": {
    "colab": {
     "base_uri": "https://localhost:8080/",
     "height": 34
    },
    "colab_type": "code",
    "id": "uZLsAnArqDYF",
    "outputId": "edfb7306-502a-433e-be8e-d1154c683623"
   },
   "outputs": [
    {
     "data": {
      "text/plain": [
       "(1000,)"
      ]
     },
     "execution_count": 370,
     "metadata": {},
     "output_type": "execute_result"
    }
   ],
   "source": [
    "np.shape(C)"
   ]
  },
  {
   "cell_type": "code",
   "execution_count": 371,
   "metadata": {
    "colab": {
     "base_uri": "https://localhost:8080/",
     "height": 187
    },
    "colab_type": "code",
    "id": "DvdYvNjS5a1q",
    "outputId": "e62fa622-8261-49e5-9c32-fcd69ecc22aa"
   },
   "outputs": [
    {
     "data": {
      "text/plain": [
       "array([2, 2, 2, 2, 2, 3, 4, 1, 2, 2, 5, 4, 1, 4, 5, 2, 1, 2, 1, 2, 2, 4,\n",
       "       5, 4, 5, 2, 3, 1, 2, 2, 2, 4, 1, 3, 1, 4, 1, 1, 1, 5, 4, 2, 4, 4,\n",
       "       4, 5, 2, 4, 5, 5, 2, 2, 5, 1, 1, 2, 1, 5, 2, 5, 4, 4, 2, 4, 5, 1,\n",
       "       1, 5, 2, 2, 3, 1, 1, 5, 5, 2, 3, 4, 1, 1, 2, 2, 1, 1, 2, 1, 2, 3,\n",
       "       1, 1, 1, 3, 2, 5, 3, 2, 5, 5, 5, 2, 5, 2, 4, 2, 2, 2, 2, 5, 3, 2,\n",
       "       1, 1, 2, 5, 2, 2, 1, 1, 2, 4, 4, 3, 2, 5, 1, 2, 2, 4, 2, 1, 5, 5,\n",
       "       3, 2, 5, 3, 5, 5, 2, 2, 4, 5, 1, 2, 1, 5, 1, 2, 1, 1, 3, 2, 5, 2,\n",
       "       2, 4, 5, 3, 4, 2, 2, 4, 2, 2, 5, 5, 1, 4, 1, 4, 5, 1, 2, 2, 1, 2,\n",
       "       1, 2, 3, 4, 5, 4, 1, 1, 4, 1, 1, 2, 4, 5, 3, 1, 1, 5, 2, 2, 5, 2,\n",
       "       2, 2, 1, 2, 5, 2, 2, 3, 2, 4, 1, 5, 2, 5, 2, 1, 2, 2, 1, 3, 5, 5,\n",
       "       2, 2, 3, 1, 4, 2, 3, 5, 2, 2, 2, 3, 1, 2, 5, 5, 2, 2, 2, 2, 2, 1,\n",
       "       4, 4, 2, 2, 5, 1, 5, 2, 2, 1, 4, 3, 1, 4, 2, 5, 4, 2, 2, 1, 1, 5,\n",
       "       4, 1, 2, 2, 3, 2, 5, 2, 2, 2, 2, 3, 4, 4, 4, 4, 5, 3, 5, 2, 5, 2,\n",
       "       3, 4, 5, 3, 3, 4, 1, 4, 2, 4, 2, 2, 2, 2, 2, 1, 5, 2, 5, 4, 4, 4,\n",
       "       4, 1, 2, 1, 2, 2, 4, 2, 2, 2, 4, 1, 3, 4, 4, 1, 4, 5, 5, 2, 2, 5,\n",
       "       4, 2, 1, 2, 4, 5, 4, 2, 2, 2, 5, 1, 4, 4, 2, 2, 4, 5, 2, 3, 2, 2,\n",
       "       2, 2, 1, 4, 5, 3, 1, 4, 5, 1, 2, 2, 1, 1, 2, 2, 2, 4, 1, 5, 2, 5,\n",
       "       2, 2, 4, 1, 2, 2, 2, 5, 2, 2, 3, 2, 4, 5, 1, 1, 2, 2, 4, 2, 1, 2,\n",
       "       5, 3, 2, 2, 5, 4, 5, 4, 1, 2, 1, 3, 1, 5, 3, 2, 2, 1, 4, 5, 2, 2,\n",
       "       2, 1, 5, 2, 3, 1, 5, 1, 1, 4, 1, 4, 4, 4, 1, 4, 4, 1, 3, 2, 1, 2,\n",
       "       3, 2, 5, 1, 5, 2, 5, 2, 1, 2, 3, 3, 2, 4, 2, 2, 5, 4, 1, 4, 5, 5,\n",
       "       2, 5, 4, 3, 4, 3, 1, 2, 5, 2, 2, 4, 3, 2, 2, 5, 5, 5, 3, 4, 2, 3,\n",
       "       5, 2, 4, 2, 5, 2, 5, 1, 1, 1, 2, 2, 4, 5, 2, 1, 1, 2, 2, 1, 1, 2,\n",
       "       2, 5, 1, 2, 3, 2, 4, 1, 2, 5, 4, 4, 1, 5, 5, 2, 2, 1, 2, 1, 5, 3,\n",
       "       5, 4, 1, 1, 2, 4, 2, 2, 2, 2, 4, 2, 2, 2, 2, 1, 2, 5, 2, 4, 2, 2,\n",
       "       2, 4, 1, 5, 5, 2, 1, 2, 2, 2, 1, 5, 1, 1, 1, 4, 5, 2, 1, 2, 5, 2,\n",
       "       2, 2, 5, 1, 5, 2, 2, 1, 1, 1, 3, 2, 3, 2, 2, 5, 2, 5, 2, 1, 2, 4,\n",
       "       3, 5, 2, 2, 4, 5, 2, 1, 2, 2, 3, 1, 2, 2, 1, 4, 5, 5, 2, 2, 2, 5,\n",
       "       1, 2, 5, 2, 4, 4, 1, 4, 2, 2, 4, 5, 1, 2, 2, 4, 2, 5, 1, 5, 1, 4,\n",
       "       1, 2, 1, 4, 2, 2, 2, 3, 5, 3, 2, 4, 4, 4, 4, 4, 2, 1, 4, 2, 4, 2,\n",
       "       5, 3, 1, 1, 4, 1, 2, 2, 3, 1, 2, 1, 4, 1, 2, 4, 5, 5, 4, 1, 2, 3,\n",
       "       5, 2, 5, 2, 2, 2, 2, 2, 4, 4, 1, 2, 2, 2, 5, 4, 4, 2, 3, 1, 4, 2,\n",
       "       2, 2, 2, 2, 5, 1, 5, 2, 4, 1, 2, 3, 5, 4, 1, 1, 2, 5, 5, 5, 2, 2,\n",
       "       2, 4, 4, 2, 2, 1, 4, 5, 3, 4, 2, 1, 5, 4, 5, 2, 2, 1, 2, 1, 2, 3,\n",
       "       5, 1, 1, 2, 2, 4, 2, 1, 1, 3, 5, 4, 2, 2, 1, 3, 1, 3, 3, 1, 1, 4,\n",
       "       2, 2, 4, 1, 5, 5, 3, 2, 1, 2, 1, 2, 4, 4, 5, 5, 2, 1, 4, 5, 5, 5,\n",
       "       3, 5, 1, 2, 2, 2, 1, 2, 3, 3, 1, 5, 1, 4, 1, 1, 5, 1, 3, 2, 4, 2,\n",
       "       4, 2, 5, 3, 4, 2, 1, 4, 2, 2, 2, 4, 4, 5, 2, 1, 3, 5, 5, 3, 2, 1,\n",
       "       5, 1, 5, 1, 2, 1, 2, 2, 4, 5, 1, 4, 2, 1, 2, 5, 1, 4, 2, 3, 4, 2,\n",
       "       5, 2, 4, 2, 4, 2, 1, 5, 4, 4, 2, 4, 3, 2, 2, 2, 2, 5, 1, 2, 2, 2,\n",
       "       3, 2, 4, 5, 2, 5, 5, 1, 4, 3, 2, 3, 5, 2, 4, 4, 2, 2, 1, 5, 1, 5,\n",
       "       5, 4, 4, 2, 5, 4, 1, 2, 5, 1, 5, 4, 5, 5, 1, 4, 2, 2, 2, 1, 5, 1,\n",
       "       1, 5, 2, 4, 4, 2, 2, 1, 1, 5, 2, 4, 1, 1, 5, 3, 5, 2, 2, 5, 2, 4,\n",
       "       2, 5, 1, 2, 1, 3, 1, 3, 3, 1, 5, 2, 2, 4, 3, 2, 2, 1, 2, 5, 5, 2,\n",
       "       5, 2, 5, 5, 1, 4, 5, 5, 1, 3, 2, 2, 1, 2, 1, 4, 2, 2, 2, 1, 4, 2,\n",
       "       5, 5, 1, 2, 3, 2, 1, 1, 3, 3])"
      ]
     },
     "execution_count": 371,
     "metadata": {},
     "output_type": "execute_result"
    }
   ],
   "source": [
    "C"
   ]
  },
  {
   "cell_type": "code",
   "execution_count": 372,
   "metadata": {
    "colab": {
     "base_uri": "https://localhost:8080/",
     "height": 34
    },
    "colab_type": "code",
    "id": "7XnChvzn8XAF",
    "outputId": "345cfa30-aabc-408a-99fe-377ab3f28579"
   },
   "outputs": [
    {
     "data": {
      "text/plain": [
       "(1000,)"
      ]
     },
     "execution_count": 372,
     "metadata": {},
     "output_type": "execute_result"
    }
   ],
   "source": [
    "np.shape(C)"
   ]
  },
  {
   "cell_type": "code",
   "execution_count": 373,
   "metadata": {
    "colab": {},
    "colab_type": "code",
    "id": "_-1ATwKF87jn"
   },
   "outputs": [],
   "source": [
    "C1ind=np.where(C==1)#indexes of the samples in cluster1\n",
    "C2ind=np.where(C==2)#indexes of the samples in cluster2\n",
    "C3ind=np.where(C==3)#indexes of the samples in cluster3\n",
    "C4ind=np.where(C==4)#indexes of the samples in cluster4\n",
    "C5ind=np.where(C==5)#indexes of the samples in cluster5"
   ]
  },
  {
   "cell_type": "code",
   "execution_count": 374,
   "metadata": {
    "colab": {
     "base_uri": "https://localhost:8080/",
     "height": 51
    },
    "colab_type": "code",
    "id": "J2LlbgImHd-i",
    "outputId": "5e625f96-c1d6-4bf4-a4f8-cfcee6eb48a8"
   },
   "outputs": [
    {
     "data": {
      "text/plain": [
       "(array([  0,   1,   2,   3,   4,   8,   9,  15,  17,  19,  20,  25,  28,\n",
       "         29,  30,  41,  46,  50,  51,  55,  58,  62,  68,  69,  75,  80,\n",
       "         81,  84,  86,  92,  95,  99, 101, 103, 104, 105, 106, 109, 112,\n",
       "        114, 115, 118, 122, 125, 126, 128, 133, 138, 139, 143, 147, 151,\n",
       "        153, 154, 159, 160, 162, 163, 172, 173, 175, 177, 187, 194, 195,\n",
       "        197, 198, 199, 201, 203, 204, 206, 210, 212, 214, 215, 220, 221,\n",
       "        225, 228, 229, 230, 233, 236, 237, 238, 239, 240, 244, 245, 249,\n",
       "        250, 256, 259, 260, 266, 267, 269, 271, 272, 273, 274, 283, 285,\n",
       "        294, 296, 297, 298, 299, 300, 303, 310, 312, 313, 315, 316, 317,\n",
       "        327, 328, 331, 333, 337, 338, 339, 344, 345, 348, 350, 351, 352,\n",
       "        353, 362, 363, 366, 367, 368, 372, 374, 375, 378, 379, 380, 382,\n",
       "        383, 385, 390, 391, 393, 395, 398, 399, 405, 411, 412, 416, 417,\n",
       "        418, 421, 437, 439, 441, 445, 447, 449, 452, 454, 455, 462, 469,\n",
       "        471, 472, 475, 476, 482, 485, 487, 489, 494, 495, 498, 501, 502,\n",
       "        505, 506, 509, 511, 514, 521, 522, 524, 532, 534, 535, 536, 537,\n",
       "        539, 540, 541, 542, 544, 546, 548, 549, 550, 555, 557, 558, 559,\n",
       "        567, 569, 571, 572, 573, 577, 578, 583, 585, 586, 588, 590, 592,\n",
       "        596, 597, 600, 602, 603, 606, 607, 612, 613, 614, 617, 619, 624,\n",
       "        625, 629, 630, 632, 639, 642, 643, 644, 648, 654, 657, 659, 666,\n",
       "        667, 670, 674, 680, 683, 685, 686, 687, 688, 689, 693, 694, 695,\n",
       "        699, 703, 704, 705, 706, 707, 711, 714, 720, 724, 725, 726, 729,\n",
       "        730, 736, 741, 742, 744, 746, 751, 752, 754, 760, 761, 770, 771,\n",
       "        777, 779, 781, 786, 795, 796, 797, 799, 811, 813, 815, 819, 822,\n",
       "        823, 824, 828, 834, 840, 842, 843, 848, 850, 854, 857, 859, 861,\n",
       "        863, 868, 871, 872, 873, 874, 877, 878, 879, 881, 884, 890, 893,\n",
       "        896, 897, 905, 909, 918, 919, 920, 926, 929, 930, 934, 941, 942,\n",
       "        944, 946, 949, 957, 958, 961, 962, 964, 967, 969, 978, 979, 981,\n",
       "        984, 985, 986, 989, 993, 995]),)"
      ]
     },
     "execution_count": 374,
     "metadata": {},
     "output_type": "execute_result"
    }
   ],
   "source": [
    "C2ind"
   ]
  },
  {
   "cell_type": "code",
   "execution_count": 375,
   "metadata": {
    "colab": {},
    "colab_type": "code",
    "id": "H3PrUZZv9PWx"
   },
   "outputs": [],
   "source": [
    "Y1=X[C1ind]#Group of samples in cluster1\n",
    "Y2=X[C2ind]#Group of samples in cluster2\n",
    "Y3=X[C3ind]#Group of samples in cluster3\n",
    "Y4=X[C4ind]#Group of samples in cluster4\n",
    "Y5=X[C5ind]#Group of samples in cluster5\n",
    "C1=Y1.mean(axis=0)#mean value of cluster1\n",
    "C2=Y2.mean(axis=0)#mean value of cluster2\n",
    "C3=Y3.mean(axis=0)#mean value of cluster3\n",
    "C4=Y4.mean(axis=0)#mean value of cluster4\n",
    "C5=Y5.mean(axis=0)#mean value of cluster5"
   ]
  },
  {
   "cell_type": "code",
   "execution_count": 376,
   "metadata": {
    "colab": {
     "base_uri": "https://localhost:8080/",
     "height": 34
    },
    "colab_type": "code",
    "id": "DmJxNMScJYgi",
    "outputId": "9e8ca204-1f43-456d-88f1-4551789ff6e4"
   },
   "outputs": [
    {
     "data": {
      "text/plain": [
       "array([74.33168067, 31.08403361])"
      ]
     },
     "execution_count": 376,
     "metadata": {},
     "output_type": "execute_result"
    }
   ],
   "source": [
    "C2"
   ]
  },
  {
   "cell_type": "code",
   "execution_count": 377,
   "metadata": {
    "colab": {
     "base_uri": "https://localhost:8080/",
     "height": 34
    },
    "colab_type": "code",
    "id": "24Qq7vthI57L",
    "outputId": "6e7ef876-fcb8-4bcd-86f7-8d7150822cdc"
   },
   "outputs": [
    {
     "data": {
      "text/plain": [
       "(205, 2)"
      ]
     },
     "execution_count": 377,
     "metadata": {},
     "output_type": "execute_result"
    }
   ],
   "source": [
    "np.shape(Y1)"
   ]
  },
  {
   "cell_type": "code",
   "execution_count": 378,
   "metadata": {
    "colab": {
     "base_uri": "https://localhost:8080/",
     "height": 459
    },
    "colab_type": "code",
    "id": "UAQcRxfFJBVI",
    "outputId": "75805e85-d8b8-4b70-9b04-eda5ba3ae279"
   },
   "outputs": [
    {
     "data": {
      "text/plain": [
       "array([[66.  , 48.  ],\n",
       "       [69.57, 48.  ],\n",
       "       [55.39, 37.  ],\n",
       "       [54.7 , 36.  ],\n",
       "       [51.95, 52.  ],\n",
       "       [59.05, 57.  ],\n",
       "       [57.64, 57.  ],\n",
       "       [62.26, 53.  ],\n",
       "       [65.82, 39.  ],\n",
       "       [50.43, 46.  ],\n",
       "       [50.33, 50.  ],\n",
       "       [62.31, 47.  ],\n",
       "       [65.19, 36.  ],\n",
       "       [62.42, 29.  ],\n",
       "       [63.89, 40.  ],\n",
       "       [69.01, 46.  ],\n",
       "       [55.35, 39.  ],\n",
       "       [56.14, 38.  ],\n",
       "       [55.13, 45.  ],\n",
       "       [56.64, 38.  ],\n",
       "       [68.94, 54.  ],\n",
       "       [57.76, 41.  ],\n",
       "       [57.7 , 34.  ],\n",
       "       [56.89, 37.  ],\n",
       "       [69.9 , 43.  ],\n",
       "       [66.63, 60.  ],\n",
       "       [63.24, 53.  ],\n",
       "       [72.6 , 55.  ],\n",
       "       [61.88, 42.  ],\n",
       "       [62.33, 43.  ],\n",
       "       [67.36, 37.  ],\n",
       "       [55.6 , 44.  ],\n",
       "       [69.08, 41.  ],\n",
       "       [56.04, 49.  ],\n",
       "       [49.78, 46.  ],\n",
       "       [68.61, 57.  ],\n",
       "       [66.18, 55.  ],\n",
       "       [59.59, 42.  ],\n",
       "       [71.84, 47.  ],\n",
       "       [63.36, 48.  ],\n",
       "       [60.72, 44.  ],\n",
       "       [62.95, 60.  ],\n",
       "       [67.58, 41.  ],\n",
       "       [46.88, 54.  ],\n",
       "       [46.31, 57.  ],\n",
       "       [60.23, 35.  ],\n",
       "       [60.7 , 49.  ],\n",
       "       [66.4 , 40.  ],\n",
       "       [59.51, 58.  ],\n",
       "       [67.28, 43.  ],\n",
       "       [61.57, 53.  ],\n",
       "       [60.94, 41.  ],\n",
       "       [62.42, 38.  ],\n",
       "       [53.68, 47.  ],\n",
       "       [57.05, 41.  ],\n",
       "       [61.22, 45.  ],\n",
       "       [56.7 , 48.  ],\n",
       "       [60.25, 35.  ],\n",
       "       [59.21, 35.  ],\n",
       "       [70.66, 43.  ],\n",
       "       [55.2 , 39.  ],\n",
       "       [52.62, 50.  ],\n",
       "       [54.92, 54.  ],\n",
       "       [69.74, 49.  ],\n",
       "       [62.06, 44.  ],\n",
       "       [66.18, 35.  ],\n",
       "       [56.3 , 49.  ],\n",
       "       [72.23, 48.  ],\n",
       "       [74.87, 52.  ],\n",
       "       [51.38, 59.  ],\n",
       "       [62.14, 41.  ],\n",
       "       [69.11, 42.  ],\n",
       "       [71.9 , 54.  ],\n",
       "       [58.6 , 50.  ],\n",
       "       [69.2 , 42.  ],\n",
       "       [68.1 , 40.  ],\n",
       "       [63.88, 38.  ],\n",
       "       [66.99, 47.  ],\n",
       "       [57.24, 52.  ],\n",
       "       [56.34, 50.  ],\n",
       "       [51.68, 49.  ],\n",
       "       [56.99, 40.  ],\n",
       "       [60.7 , 43.  ],\n",
       "       [58.03, 31.  ],\n",
       "       [60.07, 42.  ],\n",
       "       [54.43, 37.  ],\n",
       "       [60.53, 29.  ],\n",
       "       [69.58, 43.  ],\n",
       "       [56.66, 42.  ],\n",
       "       [57.64, 36.  ],\n",
       "       [53.14, 38.  ],\n",
       "       [51.87, 50.  ],\n",
       "       [64.88, 42.  ],\n",
       "       [65.59, 47.  ],\n",
       "       [59.12, 33.  ],\n",
       "       [59.88, 30.  ],\n",
       "       [59.7 , 28.  ],\n",
       "       [58.35, 37.  ],\n",
       "       [51.56, 46.  ],\n",
       "       [58.21, 37.  ],\n",
       "       [66.12, 49.  ],\n",
       "       [80.3 , 58.  ],\n",
       "       [59.13, 44.  ],\n",
       "       [59.22, 55.  ],\n",
       "       [67.94, 43.  ],\n",
       "       [66.14, 41.  ],\n",
       "       [65.1 , 49.  ],\n",
       "       [53.44, 42.  ],\n",
       "       [63.8 , 38.  ],\n",
       "       [56.39, 58.  ],\n",
       "       [56.2 , 49.  ],\n",
       "       [67.69, 44.  ],\n",
       "       [59.52, 44.  ],\n",
       "       [62.26, 37.  ],\n",
       "       [64.75, 36.  ],\n",
       "       [64.51, 42.  ],\n",
       "       [48.86, 54.  ],\n",
       "       [68.11, 38.  ],\n",
       "       [69.15, 46.  ],\n",
       "       [65.72, 36.  ],\n",
       "       [57.2 , 42.  ],\n",
       "       [52.13, 50.  ],\n",
       "       [64.67, 51.  ],\n",
       "       [62.06, 40.  ],\n",
       "       [52.7 , 41.  ],\n",
       "       [60.23, 60.  ],\n",
       "       [53.54, 39.  ],\n",
       "       [58.95, 55.  ],\n",
       "       [59.36, 49.  ],\n",
       "       [61.04, 41.  ],\n",
       "       [64.63, 45.  ],\n",
       "       [52.84, 43.  ],\n",
       "       [48.26, 50.  ],\n",
       "       [71.03, 55.  ],\n",
       "       [58.05, 32.  ],\n",
       "       [62.18, 33.  ],\n",
       "       [66.08, 61.  ],\n",
       "       [49.96, 55.  ],\n",
       "       [65.57, 46.  ],\n",
       "       [66.26, 47.  ],\n",
       "       [69.77, 54.  ],\n",
       "       [77.8 , 57.  ],\n",
       "       [49.42, 53.  ],\n",
       "       [68.95, 51.  ],\n",
       "       [67.59, 45.  ],\n",
       "       [61.87, 35.  ],\n",
       "       [71.23, 52.  ],\n",
       "       [62.12, 37.  ],\n",
       "       [57.99, 50.  ],\n",
       "       [54.35, 42.  ],\n",
       "       [61.82, 59.  ],\n",
       "       [65.07, 34.  ],\n",
       "       [56.93, 37.  ],\n",
       "       [53.63, 54.  ],\n",
       "       [52.84, 51.  ],\n",
       "       [55.04, 42.  ],\n",
       "       [68.58, 41.  ],\n",
       "       [66.79, 60.  ],\n",
       "       [52.67, 44.  ],\n",
       "       [67.85, 41.  ],\n",
       "       [59.96, 33.  ],\n",
       "       [49.35, 49.  ],\n",
       "       [66.83, 46.  ],\n",
       "       [50.63, 50.  ],\n",
       "       [53.92, 41.  ],\n",
       "       [55.32, 43.  ],\n",
       "       [53.22, 44.  ],\n",
       "       [67.51, 43.  ],\n",
       "       [57.51, 38.  ],\n",
       "       [48.46, 49.  ],\n",
       "       [63.11, 34.  ],\n",
       "       [55.77, 49.  ],\n",
       "       [57.82, 46.  ],\n",
       "       [61.88, 45.  ],\n",
       "       [55.74, 37.  ],\n",
       "       [59.05, 52.  ],\n",
       "       [60.39, 45.  ],\n",
       "       [74.06, 50.  ],\n",
       "       [67.39, 44.  ],\n",
       "       [52.17, 44.  ],\n",
       "       [55.46, 37.  ],\n",
       "       [50.78, 51.  ],\n",
       "       [56.91, 50.  ],\n",
       "       [67.56, 47.  ],\n",
       "       [54.96, 42.  ],\n",
       "       [55.71, 37.  ],\n",
       "       [47.  , 56.  ],\n",
       "       [59.64, 51.  ],\n",
       "       [61.76, 34.  ],\n",
       "       [63.3 , 38.  ],\n",
       "       [63.18, 45.  ],\n",
       "       [50.6 , 48.  ],\n",
       "       [59.01, 30.  ],\n",
       "       [63.99, 43.  ],\n",
       "       [62.79, 36.  ],\n",
       "       [54.55, 44.  ],\n",
       "       [60.75, 42.  ],\n",
       "       [50.48, 50.  ],\n",
       "       [61.84, 45.  ],\n",
       "       [67.26, 57.  ],\n",
       "       [54.37, 38.  ],\n",
       "       [63.37, 43.  ],\n",
       "       [69.17, 40.  ],\n",
       "       [51.3 , 45.  ],\n",
       "       [51.63, 51.  ]])"
      ]
     },
     "execution_count": 378,
     "metadata": {},
     "output_type": "execute_result"
    }
   ],
   "source": [
    "Y1"
   ]
  },
  {
   "cell_type": "code",
   "execution_count": 379,
   "metadata": {
    "colab": {
     "base_uri": "https://localhost:8080/",
     "height": 391
    },
    "colab_type": "code",
    "id": "XfTjwA50INbe",
    "outputId": "dc801160-f876-4219-ad3a-b05ef5da43bd"
   },
   "outputs": [
    {
     "data": {
      "text/plain": [
       "array([[68.95, 35.  ],\n",
       "       [80.23, 31.  ],\n",
       "       [69.47, 26.  ],\n",
       "       [74.15, 29.  ],\n",
       "       [68.37, 35.  ],\n",
       "       [74.53, 30.  ],\n",
       "       [69.88, 20.  ],\n",
       "       [63.45, 23.  ],\n",
       "       [82.03, 41.  ],\n",
       "       [74.58, 40.  ],\n",
       "       [77.22, 30.  ],\n",
       "       [78.74, 28.  ],\n",
       "       [70.2 , 34.  ],\n",
       "       [76.02, 22.  ],\n",
       "       [67.64, 35.  ],\n",
       "       [64.24, 30.  ],\n",
       "       [69.62, 20.  ],\n",
       "       [73.18, 23.  ],\n",
       "       [79.94, 28.  ],\n",
       "       [80.6 , 31.  ],\n",
       "       [77.63, 29.  ],\n",
       "       [72.08, 29.  ],\n",
       "       [75.74, 25.  ],\n",
       "       [78.53, 34.  ],\n",
       "       [64.1 , 22.  ],\n",
       "       [78.11, 27.  ],\n",
       "       [73.46, 28.  ],\n",
       "       [70.79, 31.  ],\n",
       "       [77.51, 36.  ],\n",
       "       [70.03, 26.  ],\n",
       "       [72.84, 26.  ],\n",
       "       [79.71, 34.  ],\n",
       "       [63.6 , 23.  ],\n",
       "       [68.18, 21.  ],\n",
       "       [66.49, 20.  ],\n",
       "       [80.49, 40.  ],\n",
       "       [72.23, 25.  ],\n",
       "       [74.02, 32.  ],\n",
       "       [71.  , 22.  ],\n",
       "       [69.  , 32.  ],\n",
       "       [76.99, 31.  ],\n",
       "       [84.45, 50.  ],\n",
       "       [77.65, 27.  ],\n",
       "       [79.57, 31.  ],\n",
       "       [80.31, 44.  ],\n",
       "       [70.41, 27.  ],\n",
       "       [75.7 , 29.  ],\n",
       "       [71.89, 23.  ],\n",
       "       [75.8 , 38.  ],\n",
       "       [83.67, 44.  ],\n",
       "       [70.92, 41.  ],\n",
       "       [78.54, 35.  ],\n",
       "       [65.4 , 33.  ],\n",
       "       [79.52, 27.  ],\n",
       "       [75.55, 36.  ],\n",
       "       [76.32, 35.  ],\n",
       "       [72.01, 31.  ],\n",
       "       [75.83, 24.  ],\n",
       "       [80.23, 31.  ],\n",
       "       [74.41, 26.  ],\n",
       "       [71.74, 35.  ],\n",
       "       [72.04, 22.  ],\n",
       "       [77.95, 31.  ],\n",
       "       [77.2 , 33.  ],\n",
       "       [71.86, 32.  ],\n",
       "       [78.57, 36.  ],\n",
       "       [73.41, 31.  ],\n",
       "       [77.05, 27.  ],\n",
       "       [69.35, 29.  ],\n",
       "       [70.04, 31.  ],\n",
       "       [69.78, 29.  ],\n",
       "       [76.9 , 28.  ],\n",
       "       [76.81, 28.  ],\n",
       "       [76.87, 27.  ],\n",
       "       [81.98, 40.  ],\n",
       "       [66.01, 23.  ],\n",
       "       [77.88, 37.  ],\n",
       "       [75.83, 27.  ],\n",
       "       [78.7 , 30.  ],\n",
       "       [70.68, 31.  ],\n",
       "       [76.06, 23.  ],\n",
       "       [66.67, 33.  ],\n",
       "       [78.32, 28.  ],\n",
       "       [76.77, 36.  ],\n",
       "       [65.65, 30.  ],\n",
       "       [74.32, 33.  ],\n",
       "       [73.27, 32.  ],\n",
       "       [80.03, 44.  ],\n",
       "       [70.44, 24.  ],\n",
       "       [81.22, 53.  ],\n",
       "       [62.2 , 25.  ],\n",
       "       [76.7 , 36.  ],\n",
       "       [80.91, 32.  ],\n",
       "       [73.84, 31.  ],\n",
       "       [74.65, 28.  ],\n",
       "       [70.58, 26.  ],\n",
       "       [72.44, 34.  ],\n",
       "       [79.15, 26.  ],\n",
       "       [73.04, 37.  ],\n",
       "       [76.28, 33.  ],\n",
       "       [68.88, 37.  ],\n",
       "       [73.1 , 28.  ],\n",
       "       [71.76, 35.  ],\n",
       "       [75.15, 22.  ],\n",
       "       [71.55, 36.  ],\n",
       "       [73.95, 35.  ],\n",
       "       [72.07, 31.  ],\n",
       "       [80.39, 31.  ],\n",
       "       [65.8 , 25.  ],\n",
       "       [69.97, 28.  ],\n",
       "       [77.56, 38.  ],\n",
       "       [76.56, 34.  ],\n",
       "       [75.55, 22.  ],\n",
       "       [72.19, 33.  ],\n",
       "       [73.89, 39.  ],\n",
       "       [75.84, 21.  ],\n",
       "       [73.38, 25.  ],\n",
       "       [76.84, 32.  ],\n",
       "       [67.05, 25.  ],\n",
       "       [80.09, 31.  ],\n",
       "       [79.36, 34.  ],\n",
       "       [75.32, 28.  ],\n",
       "       [74.38, 40.  ],\n",
       "       [65.9 , 22.  ],\n",
       "       [61.09, 26.  ],\n",
       "       [65.77, 21.  ],\n",
       "       [76.2 , 37.  ],\n",
       "       [74.49, 28.  ],\n",
       "       [73.71, 23.  ],\n",
       "       [78.19, 30.  ],\n",
       "       [79.54, 44.  ],\n",
       "       [79.72, 28.  ],\n",
       "       [73.3 , 36.  ],\n",
       "       [72.45, 29.  ],\n",
       "       [77.07, 40.  ],\n",
       "       [74.62, 36.  ],\n",
       "       [79.44, 26.  ],\n",
       "       [73.19, 25.  ],\n",
       "       [77.6 , 24.  ],\n",
       "       [67.56, 31.  ],\n",
       "       [81.11, 39.  ],\n",
       "       [80.22, 30.  ],\n",
       "       [77.66, 29.  ],\n",
       "       [74.63, 26.  ],\n",
       "       [80.59, 37.  ],\n",
       "       [78.83, 36.  ],\n",
       "       [79.97, 44.  ],\n",
       "       [62.26, 26.  ],\n",
       "       [71.05, 20.  ],\n",
       "       [76.24, 40.  ],\n",
       "       [77.29, 27.  ],\n",
       "       [81.58, 41.  ],\n",
       "       [78.68, 29.  ],\n",
       "       [68.82, 20.  ],\n",
       "       [71.03, 32.  ],\n",
       "       [72.92, 29.  ],\n",
       "       [77.14, 24.  ],\n",
       "       [83.71, 45.  ],\n",
       "       [76.24, 27.  ],\n",
       "       [78.18, 23.  ],\n",
       "       [79.4 , 35.  ],\n",
       "       [73.72, 32.  ],\n",
       "       [73.93, 44.  ],\n",
       "       [77.69, 22.  ],\n",
       "       [80.67, 34.  ],\n",
       "       [82.12, 52.  ],\n",
       "       [66.17, 33.  ],\n",
       "       [74.88, 27.  ],\n",
       "       [65.65, 25.  ],\n",
       "       [67.69, 37.  ],\n",
       "       [78.37, 24.  ],\n",
       "       [75.15, 33.  ],\n",
       "       [78.76, 24.  ],\n",
       "       [69.42, 25.  ],\n",
       "       [66.88, 35.  ],\n",
       "       [76.56, 30.  ],\n",
       "       [80.29, 31.  ],\n",
       "       [67.8 , 30.  ],\n",
       "       [81.59, 35.  ],\n",
       "       [73.94, 27.  ],\n",
       "       [79.81, 37.  ],\n",
       "       [66.17, 26.  ],\n",
       "       [80.47, 42.  ],\n",
       "       [77.05, 31.  ],\n",
       "       [79.36, 33.  ],\n",
       "       [70.29, 26.  ],\n",
       "       [81.51, 41.  ],\n",
       "       [63.26, 29.  ],\n",
       "       [79.16, 32.  ],\n",
       "       [79.91, 32.  ],\n",
       "       [79.53, 51.  ],\n",
       "       [73.57, 30.  ],\n",
       "       [78.76, 32.  ],\n",
       "       [76.49, 23.  ],\n",
       "       [61.72, 26.  ],\n",
       "       [72.03, 34.  ],\n",
       "       [77.47, 36.  ],\n",
       "       [75.65, 39.  ],\n",
       "       [78.15, 33.  ],\n",
       "       [76.59, 29.  ],\n",
       "       [78.77, 28.  ],\n",
       "       [79.53, 33.  ],\n",
       "       [73.89, 35.  ],\n",
       "       [75.8 , 36.  ],\n",
       "       [72.53, 37.  ],\n",
       "       [79.67, 28.  ],\n",
       "       [75.42, 26.  ],\n",
       "       [78.64, 31.  ],\n",
       "       [80.38, 30.  ],\n",
       "       [71.28, 37.  ],\n",
       "       [72.76, 33.  ],\n",
       "       [72.8 , 35.  ],\n",
       "       [74.59, 23.  ],\n",
       "       [81.21, 36.  ],\n",
       "       [66.89, 23.  ],\n",
       "       [68.6 , 33.  ],\n",
       "       [78.6 , 46.  ],\n",
       "       [78.29, 38.  ],\n",
       "       [77.31, 32.  ],\n",
       "       [66.77, 25.  ],\n",
       "       [73.15, 25.  ],\n",
       "       [77.25, 27.  ],\n",
       "       [74.84, 37.  ],\n",
       "       [84.  , 48.  ],\n",
       "       [71.83, 40.  ],\n",
       "       [78.36, 24.  ],\n",
       "       [69.5 , 26.  ],\n",
       "       [65.22, 30.  ],\n",
       "       [75.19, 31.  ],\n",
       "       [76.21, 31.  ],\n",
       "       [67.76, 31.  ],\n",
       "       [68.41, 38.  ],\n",
       "       [74.54, 24.  ],\n",
       "       [78.17, 27.  ],\n",
       "       [67.91, 23.  ],\n",
       "       [73.94, 26.  ],\n",
       "       [63.43, 29.  ],\n",
       "       [70.13, 31.  ],\n",
       "       [74.06, 23.  ],\n",
       "       [76.07, 36.  ],\n",
       "       [75.92, 22.  ],\n",
       "       [78.35, 46.  ],\n",
       "       [66.04, 27.  ],\n",
       "       [76.44, 26.  ],\n",
       "       [74.71, 46.  ],\n",
       "       [76.42, 26.  ],\n",
       "       [75.  , 29.  ],\n",
       "       [79.61, 31.  ],\n",
       "       [77.89, 26.  ],\n",
       "       [77.44, 28.  ],\n",
       "       [78.01, 26.  ],\n",
       "       [76.83, 28.  ],\n",
       "       [76.27, 27.  ],\n",
       "       [74.27, 37.  ],\n",
       "       [73.27, 28.  ],\n",
       "       [74.58, 36.  ],\n",
       "       [77.5 , 28.  ],\n",
       "       [65.15, 29.  ],\n",
       "       [68.25, 33.  ],\n",
       "       [73.49, 38.  ],\n",
       "       [73.88, 29.  ],\n",
       "       [77.65, 28.  ],\n",
       "       [76.02, 40.  ],\n",
       "       [78.84, 26.  ],\n",
       "       [71.33, 23.  ],\n",
       "       [81.9 , 41.  ],\n",
       "       [69.96, 31.  ],\n",
       "       [71.27, 21.  ],\n",
       "       [75.71, 34.  ],\n",
       "       [76.76, 25.  ],\n",
       "       [78.74, 27.  ],\n",
       "       [67.47, 24.  ],\n",
       "       [79.6 , 28.  ],\n",
       "       [65.53, 19.  ],\n",
       "       [79.8 , 28.  ],\n",
       "       [70.9 , 28.  ],\n",
       "       [71.9 , 29.  ],\n",
       "       [67.35, 29.  ],\n",
       "       [66.8 , 29.  ],\n",
       "       [77.75, 31.  ],\n",
       "       [70.61, 28.  ],\n",
       "       [76.87, 36.  ],\n",
       "       [75.81, 40.  ],\n",
       "       [72.94, 31.  ],\n",
       "       [71.14, 30.  ],\n",
       "       [64.38, 19.  ],\n",
       "       [72.18, 30.  ],\n",
       "       [80.55, 35.  ],\n",
       "       [75.55, 36.  ],\n",
       "       [74.07, 22.  ],\n",
       "       [75.64, 29.  ],\n",
       "       [79.22, 27.  ],\n",
       "       [77.05, 34.  ],\n",
       "       [76.2 , 24.  ],\n",
       "       [79.89, 30.  ],\n",
       "       [74.18, 28.  ],\n",
       "       [80.96, 39.  ],\n",
       "       [79.6 , 39.  ],\n",
       "       [73.21, 30.  ],\n",
       "       [79.09, 32.  ],\n",
       "       [68.47, 28.  ],\n",
       "       [66.69, 35.  ],\n",
       "       [68.72, 27.  ],\n",
       "       [72.46, 40.  ],\n",
       "       [78.24, 23.  ],\n",
       "       [74.61, 38.  ],\n",
       "       [70.39, 32.  ],\n",
       "       [78.58, 33.  ],\n",
       "       [75.03, 34.  ],\n",
       "       [78.51, 25.  ],\n",
       "       [83.17, 43.  ],\n",
       "       [68.25, 29.  ],\n",
       "       [76.64, 39.  ],\n",
       "       [67.71, 25.  ],\n",
       "       [76.79, 27.  ],\n",
       "       [70.05, 33.  ],\n",
       "       [72.19, 32.  ],\n",
       "       [77.35, 34.  ],\n",
       "       [68.68, 34.  ],\n",
       "       [81.75, 43.  ],\n",
       "       [66.03, 22.  ],\n",
       "       [79.18, 31.  ],\n",
       "       [70.92, 39.  ],\n",
       "       [76.65, 31.  ],\n",
       "       [69.86, 25.  ],\n",
       "       [78.84, 32.  ],\n",
       "       [77.36, 41.  ],\n",
       "       [75.94, 27.  ],\n",
       "       [75.24, 24.  ],\n",
       "       [78.79, 32.  ],\n",
       "       [65.56, 25.  ],\n",
       "       [81.05, 34.  ],\n",
       "       [72.55, 22.  ],\n",
       "       [82.49, 45.  ],\n",
       "       [80.94, 36.  ],\n",
       "       [78.41, 33.  ],\n",
       "       [78.76, 51.  ],\n",
       "       [79.51, 39.  ],\n",
       "       [64.79, 30.  ],\n",
       "       [72.82, 34.  ],\n",
       "       [78.96, 50.  ],\n",
       "       [69.95, 28.  ],\n",
       "       [79.83, 29.  ],\n",
       "       [78.67, 26.  ],\n",
       "       [70.09, 21.  ],\n",
       "       [65.07, 24.  ],\n",
       "       [68.01, 25.  ],\n",
       "       [63.04, 27.  ],\n",
       "       [71.4 , 30.  ],\n",
       "       [70.29, 31.  ],\n",
       "       [76.58, 46.  ],\n",
       "       [66.47, 31.  ],\n",
       "       [72.88, 44.  ],\n",
       "       [76.44, 28.  ],\n",
       "       [70.96, 31.  ],\n",
       "       [64.2 , 27.  ],\n",
       "       [72.97, 30.  ]])"
      ]
     },
     "execution_count": 379,
     "metadata": {},
     "output_type": "execute_result"
    }
   ],
   "source": [
    "Y2"
   ]
  },
  {
   "cell_type": "code",
   "execution_count": 380,
   "metadata": {
    "colab": {},
    "colab_type": "code",
    "id": "92pMWBrL9ZaJ"
   },
   "outputs": [],
   "source": [
    "for k in range(K): #K times-initialize the centroids randomly from the data points, taking K samples \n",
    "#from m samples\n",
    "    rand=random.randint(0,m-1) #data index is random\n",
    "    centroids[:,k]=X[rand]\n",
    "    n_iter=200\n",
    "for i in range(n_iter):\n",
    "  for k in range(K):\n",
    "       tempDist=np.sum((X-centroids[:,k])**2,axis=1)\n",
    "       EuclidianDistance[:,k]=tempDist \n",
    "  C=np.argmin(EuclidianDistance,axis=1)+1 #returns the k for which we have minimum distance\n",
    "  C1ind=np.where(C==1)\n",
    "  C2ind=np.where(C==2)\n",
    "  C3ind=np.where(C==3)\n",
    "  C4ind=np.where(C==4)\n",
    "  C5ind=np.where(C==5)\n",
    "  Y1=X[C1ind]\n",
    "  Y2=X[C2ind]\n",
    "  Y3=X[C3ind]\n",
    "  Y4=X[C4ind]\n",
    "  Y5=X[C5ind]\n",
    "  C1=Y1.mean(axis=0)\n",
    "  C2=Y2.mean(axis=0)\n",
    "  C3=Y3.mean(axis=0)\n",
    "  C4=Y4.mean(axis=0)\n",
    "  C5=Y5.mean(axis=0)\n",
    "  centroids[:,0]=C1\n",
    "  centroids[:,1]=C2\n",
    "  centroids[:,2]=C3\n",
    "  centroids[:,3]=C4\n",
    "  centroids[:,4]=C5"
   ]
  },
  {
   "cell_type": "code",
   "execution_count": 381,
   "metadata": {
    "colab": {
     "base_uri": "https://localhost:8080/",
     "height": 187
    },
    "colab_type": "code",
    "id": "qTT4jpJdPxMf",
    "outputId": "33c6d4c3-4329-453e-85e4-155451dfd55c"
   },
   "outputs": [
    {
     "data": {
      "text/plain": [
       "array([3, 4, 3, 3, 3, 3, 4, 2, 3, 3, 5, 4, 2, 4, 1, 3, 1, 4, 1, 4, 4, 4,\n",
       "       5, 4, 1, 4, 1, 5, 3, 3, 3, 4, 2, 3, 2, 4, 2, 2, 5, 1, 4, 3, 4, 4,\n",
       "       4, 5, 3, 4, 1, 5, 3, 4, 5, 5, 2, 4, 3, 5, 4, 1, 4, 4, 3, 4, 5, 3,\n",
       "       2, 1, 3, 4, 1, 2, 2, 5, 5, 3, 1, 4, 2, 2, 4, 3, 2, 2, 3, 2, 4, 1,\n",
       "       3, 2, 2, 3, 3, 1, 1, 3, 1, 1, 5, 4, 5, 3, 4, 3, 3, 4, 3, 5, 1, 3,\n",
       "       2, 2, 3, 5, 3, 4, 2, 2, 4, 4, 4, 1, 4, 1, 2, 4, 4, 4, 3, 3, 5, 1,\n",
       "       1, 4, 5, 1, 1, 1, 3, 4, 4, 1, 2, 4, 2, 5, 2, 2, 5, 2, 3, 4, 5, 3,\n",
       "       4, 4, 1, 1, 4, 4, 4, 4, 3, 3, 5, 1, 2, 4, 2, 4, 5, 2, 4, 3, 2, 3,\n",
       "       2, 3, 1, 4, 1, 4, 2, 2, 4, 5, 5, 4, 4, 1, 1, 3, 2, 5, 4, 3, 5, 4,\n",
       "       3, 4, 2, 3, 1, 3, 3, 3, 4, 4, 2, 1, 4, 1, 4, 2, 4, 3, 2, 1, 1, 1,\n",
       "       4, 3, 1, 2, 4, 4, 3, 1, 3, 3, 3, 1, 2, 4, 5, 5, 4, 3, 4, 3, 4, 2,\n",
       "       4, 4, 3, 2, 5, 2, 5, 3, 4, 2, 4, 1, 2, 4, 4, 1, 4, 3, 3, 3, 3, 5,\n",
       "       4, 2, 3, 3, 1, 4, 5, 4, 4, 3, 3, 1, 4, 4, 4, 4, 5, 3, 1, 3, 5, 3,\n",
       "       3, 4, 5, 3, 1, 4, 2, 4, 3, 4, 4, 3, 4, 3, 3, 5, 1, 4, 5, 4, 4, 4,\n",
       "       4, 2, 4, 2, 3, 3, 4, 4, 3, 3, 4, 2, 1, 4, 4, 3, 4, 1, 5, 4, 3, 1,\n",
       "       4, 4, 2, 4, 4, 1, 4, 3, 4, 3, 5, 2, 4, 4, 3, 3, 4, 5, 4, 3, 3, 3,\n",
       "       4, 4, 2, 4, 5, 1, 5, 4, 1, 2, 4, 4, 2, 2, 3, 4, 4, 4, 2, 5, 4, 5,\n",
       "       3, 4, 4, 2, 3, 4, 4, 1, 4, 3, 1, 4, 4, 5, 2, 2, 4, 4, 4, 3, 2, 3,\n",
       "       5, 1, 4, 4, 5, 4, 5, 4, 2, 4, 2, 1, 5, 5, 1, 4, 3, 2, 4, 5, 3, 3,\n",
       "       3, 2, 1, 4, 1, 3, 1, 2, 1, 4, 3, 4, 4, 4, 2, 4, 4, 2, 3, 4, 2, 4,\n",
       "       1, 4, 1, 1, 1, 3, 1, 2, 5, 3, 1, 3, 4, 4, 4, 3, 1, 4, 2, 4, 1, 5,\n",
       "       3, 5, 4, 1, 4, 1, 2, 3, 1, 3, 4, 4, 1, 4, 4, 5, 1, 1, 3, 4, 3, 1,\n",
       "       1, 3, 4, 4, 5, 4, 1, 3, 3, 3, 3, 4, 4, 1, 3, 2, 5, 4, 3, 2, 2, 4,\n",
       "       4, 1, 2, 4, 3, 3, 4, 2, 4, 1, 4, 4, 2, 1, 5, 3, 4, 2, 4, 2, 1, 3,\n",
       "       5, 4, 2, 2, 2, 4, 3, 4, 3, 3, 4, 3, 4, 4, 4, 2, 4, 5, 4, 4, 4, 4,\n",
       "       4, 4, 2, 1, 1, 4, 2, 4, 3, 4, 2, 1, 2, 2, 3, 4, 5, 4, 2, 3, 1, 3,\n",
       "       3, 3, 5, 5, 1, 4, 3, 2, 2, 3, 1, 3, 3, 4, 4, 5, 4, 1, 3, 2, 3, 4,\n",
       "       1, 1, 4, 4, 4, 5, 4, 5, 2, 4, 1, 2, 3, 3, 2, 4, 1, 1, 4, 4, 3, 5,\n",
       "       1, 2, 1, 3, 4, 4, 2, 4, 4, 3, 4, 5, 1, 3, 3, 4, 3, 1, 2, 5, 2, 4,\n",
       "       2, 3, 2, 4, 4, 3, 4, 1, 1, 1, 3, 4, 4, 4, 4, 4, 3, 5, 4, 2, 4, 3,\n",
       "       5, 1, 5, 2, 4, 3, 3, 4, 1, 3, 4, 2, 4, 5, 4, 4, 1, 1, 4, 2, 4, 1,\n",
       "       1, 4, 1, 4, 4, 3, 4, 4, 4, 4, 2, 3, 3, 4, 5, 4, 4, 3, 3, 2, 4, 4,\n",
       "       4, 4, 3, 4, 5, 2, 5, 3, 4, 5, 3, 1, 1, 4, 2, 2, 4, 1, 5, 1, 3, 4,\n",
       "       3, 4, 4, 4, 3, 3, 4, 1, 3, 4, 4, 2, 5, 4, 1, 3, 3, 2, 3, 2, 3, 1,\n",
       "       5, 2, 2, 4, 3, 4, 4, 3, 2, 1, 1, 4, 4, 3, 5, 1, 5, 1, 1, 2, 2, 4,\n",
       "       3, 3, 4, 2, 5, 5, 3, 3, 5, 4, 2, 4, 4, 4, 1, 1, 3, 3, 4, 1, 1, 5,\n",
       "       3, 1, 5, 4, 4, 4, 2, 3, 3, 1, 5, 5, 2, 4, 2, 5, 1, 2, 1, 4, 4, 3,\n",
       "       4, 4, 5, 3, 4, 4, 2, 4, 3, 4, 3, 4, 4, 5, 3, 5, 1, 1, 5, 1, 3, 3,\n",
       "       5, 2, 1, 2, 2, 2, 4, 4, 4, 5, 2, 4, 3, 2, 4, 1, 2, 4, 4, 1, 4, 4,\n",
       "       5, 4, 4, 3, 4, 4, 2, 1, 4, 4, 3, 4, 1, 4, 3, 3, 4, 1, 2, 3, 4, 3,\n",
       "       1, 4, 4, 5, 2, 5, 5, 5, 4, 1, 4, 3, 1, 3, 4, 4, 4, 4, 1, 5, 5, 1,\n",
       "       5, 4, 4, 3, 5, 4, 2, 3, 5, 2, 5, 4, 1, 1, 2, 4, 4, 3, 4, 2, 5, 5,\n",
       "       2, 5, 3, 4, 4, 4, 4, 3, 2, 1, 4, 4, 2, 5, 1, 3, 5, 2, 4, 1, 3, 4,\n",
       "       3, 1, 3, 2, 2, 1, 3, 1, 1, 2, 1, 3, 4, 4, 3, 4, 3, 2, 3, 5, 5, 3,\n",
       "       1, 3, 1, 5, 5, 4, 1, 5, 2, 1, 3, 3, 2, 2, 1, 4, 3, 2, 4, 2, 4, 3,\n",
       "       5, 1, 2, 3, 1, 3, 5, 5, 3, 1])"
      ]
     },
     "execution_count": 381,
     "metadata": {},
     "output_type": "execute_result"
    }
   ],
   "source": [
    "C"
   ]
  },
  {
   "cell_type": "code",
   "execution_count": 382,
   "metadata": {
    "colab": {
     "base_uri": "https://localhost:8080/",
     "height": 34
    },
    "colab_type": "code",
    "id": "t2Ik_K2TPoxr",
    "outputId": "370cabcf-e966-4d68-974a-66eec6407e53"
   },
   "outputs": [
    {
     "data": {
      "text/plain": [
       "array([67.97246637, 27.80269058])"
      ]
     },
     "execution_count": 382,
     "metadata": {},
     "output_type": "execute_result"
    }
   ],
   "source": [
    "C3"
   ]
  },
  {
   "cell_type": "code",
   "execution_count": 383,
   "metadata": {
    "colab": {
     "base_uri": "https://localhost:8080/",
     "height": 34
    },
    "colab_type": "code",
    "id": "7nvAD5TUMBLv",
    "outputId": "6e38a412-e950-4636-8373-a47eb9ecaf04"
   },
   "outputs": [
    {
     "data": {
      "text/plain": [
       "array([43.90496933, 34.49079755])"
      ]
     },
     "execution_count": 383,
     "metadata": {},
     "output_type": "execute_result"
    }
   ],
   "source": [
    "C1"
   ]
  },
  {
   "cell_type": "code",
   "execution_count": 384,
   "metadata": {
    "colab": {
     "base_uri": "https://localhost:8080/",
     "height": 34
    },
    "colab_type": "code",
    "id": "rIgZbAQAVf_N",
    "outputId": "815f6089-ab18-42e6-8696-574e01380d4f"
   },
   "outputs": [
    {
     "data": {
      "text/plain": [
       "(2,)"
      ]
     },
     "execution_count": 384,
     "metadata": {},
     "output_type": "execute_result"
    }
   ],
   "source": [
    "np.shape(C1)"
   ]
  },
  {
   "cell_type": "code",
   "execution_count": 385,
   "metadata": {
    "colab": {
     "base_uri": "https://localhost:8080/",
     "height": 34
    },
    "colab_type": "code",
    "id": "owGUtR00WakL",
    "outputId": "3bd45e20-8324-49b4-91c2-0da599bd4670"
   },
   "outputs": [
    {
     "data": {
      "text/plain": [
       "array([43.90496933, 34.49079755])"
      ]
     },
     "execution_count": 385,
     "metadata": {},
     "output_type": "execute_result"
    }
   ],
   "source": [
    "C1"
   ]
  },
  {
   "cell_type": "code",
   "execution_count": 386,
   "metadata": {
    "colab": {
     "base_uri": "https://localhost:8080/",
     "height": 34
    },
    "colab_type": "code",
    "id": "nMaBnGAPV-gH",
    "outputId": "51f76ce1-567d-457b-9103-159389c8da53"
   },
   "outputs": [
    {
     "data": {
      "text/plain": [
       "(2,)"
      ]
     },
     "execution_count": 386,
     "metadata": {},
     "output_type": "execute_result"
    }
   ],
   "source": [
    "np.shape(C1)"
   ]
  },
  {
   "cell_type": "code",
   "execution_count": 387,
   "metadata": {
    "colab": {
     "base_uri": "https://localhost:8080/",
     "height": 279
    },
    "colab_type": "code",
    "id": "kQ2E1HFMSuXJ",
    "outputId": "75926b87-eeb0-4cbf-b010-aaa860bf602d"
   },
   "outputs": [
    {
     "data": {
      "image/png": "[encoded data removed]",
      "text/plain": [
       "<Figure size 432x288 with 1 Axes>"
      ]
     },
     "metadata": {
      "needs_background": "light"
     },
     "output_type": "display_data"
    }
   ],
   "source": [
    "color=['red','blue','green','cyan','magenta']\n",
    "labels=['cluster1','cluster2','cluster3','cluster4','cluster5']\n",
    "plt.scatter(Y1[:,0],Y1[:,1],c=color[0],label=labels[0])\n",
    "plt.scatter(Y2[:,0],Y2[:,1],c=color[1],label=labels[1])\n",
    "plt.scatter(Y3[:,0],Y3[:,1],c=color[2],label=labels[2])\n",
    "plt.scatter(Y4[:,0],Y4[:,1],c=color[3],label=labels[3])\n",
    "plt.scatter(Y5[:,0],Y5[:,1],c=color[4],label=labels[4])\n",
    "plt.scatter(C1[0],C1[1],s=300,c='yellow',label='Centroid1')\n",
    "plt.scatter(C2[0],C2[1],s=300,c='yellow',label='Centroid2')\n",
    "plt.scatter(C3[0],C3[1],s=300,c='yellow',label='Centroid3')\n",
    "plt.scatter(C4[0],C4[1],s=300,c='yellow',label='Centroid4')\n",
    "plt.scatter(C5[0],C5[1],s=300,c='yellow',label='Centroid5')\n",
    "plt.xlabel('Age')\n",
    "plt.ylabel('Daily usage of internet')\n",
    "plt.legend()\n",
    "plt.show()"
   ]
  },
  {
   "cell_type": "code",
   "execution_count": 388,
   "metadata": {
    "colab": {
     "base_uri": "https://localhost:8080/",
     "height": 282
    },
    "colab_type": "code",
    "id": "wnJBVYkbS5Xh",
    "outputId": "d088efe0-2ee5-4f0c-e7d0-37b3a7630db6"
   },
   "outputs": [
    {
     "data": {
      "text/plain": [
       "[<matplotlib.lines.Line2D at 0x1a27005550>]"
      ]
     },
     "execution_count": 388,
     "metadata": {},
     "output_type": "execute_result"
    },
    {
     "data": {
      "image/png": "[encoded data removed]",
      "text/plain": [
       "<Figure size 432x288 with 1 Axes>"
      ]
     },
     "metadata": {
      "needs_background": "light"
     },
     "output_type": "display_data"
    }
   ],
   "source": [
    "from sklearn.cluster import KMeans\n",
    "cost=[]\n",
    "for k in range(1,11):\n",
    "  kmeans=KMeans(n_clusters=k,init='k-means++',random_state=42)\n",
    "  kmeans.fit(X)\n",
    "  cost.append(kmeans.inertia_)\n",
    "plt.plot(range(1,11),cost)"
   ]
  }
 ],
 "metadata": {
  "colab": {
   "name": "12.KmeansMarketSegmentationFromScratch.ipynb",
   "provenance": []
  },
  "kernelspec": {
   "display_name": "Python 3",
   "language": "python",
   "name": "python3"
  },
  "language_info": {
   "codemirror_mode": {
    "name": "ipython",
    "version": 3
   },
   "file_extension": ".py",
   "mimetype": "text/x-python",
   "name": "python",
   "nbconvert_exporter": "python",
   "pygments_lexer": "ipython3",
   "version": "3.7.6"
  }
 },
 "nbformat": 4,
 "nbformat_minor": 1
}
